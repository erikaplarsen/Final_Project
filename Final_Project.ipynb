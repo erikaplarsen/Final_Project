{
 "cells": [
  {
   "cell_type": "code",
   "execution_count": 1,
   "metadata": {},
   "outputs": [],
   "source": [
    "import pandas as pd\n",
    "from sklearn.datasets import make_regression\n",
    "%matplotlib inline\n",
    "import matplotlib.pyplot as plt\n",
    "import numpy as np\n",
    "from sklearn.model_selection import train_test_split\n",
    "from sklearn.linear_model import LinearRegression"
   ]
  },
  {
   "cell_type": "code",
   "execution_count": 2,
   "metadata": {},
   "outputs": [],
   "source": [
    "crash_data_csv = 'Resources/PrecrashData.csv'\n",
    "data = pd.read_csv(crash_data_csv)"
   ]
  },
  {
   "cell_type": "code",
   "execution_count": 3,
   "metadata": {},
   "outputs": [
    {
     "data": {
      "text/html": [
       "<div>\n",
       "<style scoped>\n",
       "    .dataframe tbody tr th:only-of-type {\n",
       "        vertical-align: middle;\n",
       "    }\n",
       "\n",
       "    .dataframe tbody tr th {\n",
       "        vertical-align: top;\n",
       "    }\n",
       "\n",
       "    .dataframe thead th {\n",
       "        text-align: right;\n",
       "    }\n",
       "</style>\n",
       "<table border=\"1\" class=\"dataframe\">\n",
       "  <thead>\n",
       "    <tr style=\"text-align: right;\">\n",
       "      <th></th>\n",
       "      <th>Loan Amount</th>\n",
       "      <th>Funded Amouint</th>\n",
       "      <th>term_in_months</th>\n",
       "      <th>Interest Rate</th>\n",
       "      <th>Installment</th>\n",
       "      <th>Employment Length</th>\n",
       "      <th>Home Ownership</th>\n",
       "      <th>annual_inc</th>\n",
       "      <th>Approved Date</th>\n",
       "      <th>Loan Status</th>\n",
       "      <th>...</th>\n",
       "      <th>Borrower's State</th>\n",
       "      <th>DTI</th>\n",
       "      <th>Delinquencies last 2-yrs</th>\n",
       "      <th>Earliest Credit Line</th>\n",
       "      <th># Inquiries last 6 months</th>\n",
       "      <th>Open Accounts</th>\n",
       "      <th>Revolving Balance</th>\n",
       "      <th>Revolving %</th>\n",
       "      <th>Total # of Accounts</th>\n",
       "      <th>Total Debt Owed</th>\n",
       "    </tr>\n",
       "  </thead>\n",
       "  <tbody>\n",
       "    <tr>\n",
       "      <th>0</th>\n",
       "      <td>5000</td>\n",
       "      <td>5000</td>\n",
       "      <td>36</td>\n",
       "      <td>0.11</td>\n",
       "      <td>162.87</td>\n",
       "      <td>10+ years</td>\n",
       "      <td>RENT</td>\n",
       "      <td>24000.0</td>\n",
       "      <td>12/1/11</td>\n",
       "      <td>Fully Paid</td>\n",
       "      <td>...</td>\n",
       "      <td>AZ</td>\n",
       "      <td>27.65</td>\n",
       "      <td>0.0</td>\n",
       "      <td>1/1/85</td>\n",
       "      <td>1.0</td>\n",
       "      <td>3.0</td>\n",
       "      <td>13648</td>\n",
       "      <td>83.70%</td>\n",
       "      <td>9.0</td>\n",
       "      <td>5863.155187</td>\n",
       "    </tr>\n",
       "    <tr>\n",
       "      <th>1</th>\n",
       "      <td>2500</td>\n",
       "      <td>2500</td>\n",
       "      <td>60</td>\n",
       "      <td>0.15</td>\n",
       "      <td>59.83</td>\n",
       "      <td>&lt; 1 year</td>\n",
       "      <td>RENT</td>\n",
       "      <td>30000.0</td>\n",
       "      <td>12/1/11</td>\n",
       "      <td>Charged Off</td>\n",
       "      <td>...</td>\n",
       "      <td>GA</td>\n",
       "      <td>1.00</td>\n",
       "      <td>0.0</td>\n",
       "      <td>4/1/99</td>\n",
       "      <td>5.0</td>\n",
       "      <td>3.0</td>\n",
       "      <td>1687</td>\n",
       "      <td>9.40%</td>\n",
       "      <td>4.0</td>\n",
       "      <td>1014.530000</td>\n",
       "    </tr>\n",
       "    <tr>\n",
       "      <th>2</th>\n",
       "      <td>2400</td>\n",
       "      <td>2400</td>\n",
       "      <td>36</td>\n",
       "      <td>0.16</td>\n",
       "      <td>84.33</td>\n",
       "      <td>10+ years</td>\n",
       "      <td>RENT</td>\n",
       "      <td>12252.0</td>\n",
       "      <td>12/1/11</td>\n",
       "      <td>Fully Paid</td>\n",
       "      <td>...</td>\n",
       "      <td>IL</td>\n",
       "      <td>8.72</td>\n",
       "      <td>0.0</td>\n",
       "      <td>11/1/01</td>\n",
       "      <td>2.0</td>\n",
       "      <td>2.0</td>\n",
       "      <td>2956</td>\n",
       "      <td>98.50%</td>\n",
       "      <td>10.0</td>\n",
       "      <td>3005.666844</td>\n",
       "    </tr>\n",
       "    <tr>\n",
       "      <th>3</th>\n",
       "      <td>10000</td>\n",
       "      <td>10000</td>\n",
       "      <td>36</td>\n",
       "      <td>0.13</td>\n",
       "      <td>339.31</td>\n",
       "      <td>10+ years</td>\n",
       "      <td>RENT</td>\n",
       "      <td>49200.0</td>\n",
       "      <td>12/1/11</td>\n",
       "      <td>Fully Paid</td>\n",
       "      <td>...</td>\n",
       "      <td>CA</td>\n",
       "      <td>20.00</td>\n",
       "      <td>0.0</td>\n",
       "      <td>2/1/96</td>\n",
       "      <td>1.0</td>\n",
       "      <td>10.0</td>\n",
       "      <td>5598</td>\n",
       "      <td>21%</td>\n",
       "      <td>37.0</td>\n",
       "      <td>12231.890000</td>\n",
       "    </tr>\n",
       "    <tr>\n",
       "      <th>4</th>\n",
       "      <td>3000</td>\n",
       "      <td>3000</td>\n",
       "      <td>60</td>\n",
       "      <td>0.13</td>\n",
       "      <td>67.79</td>\n",
       "      <td>1 year</td>\n",
       "      <td>RENT</td>\n",
       "      <td>80000.0</td>\n",
       "      <td>12/1/11</td>\n",
       "      <td>Fully Paid</td>\n",
       "      <td>...</td>\n",
       "      <td>OR</td>\n",
       "      <td>17.94</td>\n",
       "      <td>0.0</td>\n",
       "      <td>1/1/96</td>\n",
       "      <td>0.0</td>\n",
       "      <td>15.0</td>\n",
       "      <td>27783</td>\n",
       "      <td>53.90%</td>\n",
       "      <td>38.0</td>\n",
       "      <td>4066.908161</td>\n",
       "    </tr>\n",
       "  </tbody>\n",
       "</table>\n",
       "<p>5 rows × 21 columns</p>\n",
       "</div>"
      ],
      "text/plain": [
       "   Loan Amount  Funded Amouint  term_in_months  Interest Rate  Installment  \\\n",
       "0         5000            5000              36           0.11       162.87   \n",
       "1         2500            2500              60           0.15        59.83   \n",
       "2         2400            2400              36           0.16        84.33   \n",
       "3        10000           10000              36           0.13       339.31   \n",
       "4         3000            3000              60           0.13        67.79   \n",
       "\n",
       "  Employment Length Home Ownership  annual_inc Approved Date  Loan Status  \\\n",
       "0         10+ years           RENT     24000.0       12/1/11   Fully Paid   \n",
       "1          < 1 year           RENT     30000.0       12/1/11  Charged Off   \n",
       "2         10+ years           RENT     12252.0       12/1/11   Fully Paid   \n",
       "3         10+ years           RENT     49200.0       12/1/11   Fully Paid   \n",
       "4            1 year           RENT     80000.0       12/1/11   Fully Paid   \n",
       "\n",
       "   ... Borrower's State    DTI  Delinquencies last 2-yrs  \\\n",
       "0  ...               AZ  27.65                       0.0   \n",
       "1  ...               GA   1.00                       0.0   \n",
       "2  ...               IL   8.72                       0.0   \n",
       "3  ...               CA  20.00                       0.0   \n",
       "4  ...               OR  17.94                       0.0   \n",
       "\n",
       "   Earliest Credit Line # Inquiries last 6 months  Open Accounts  \\\n",
       "0                1/1/85                       1.0            3.0   \n",
       "1                4/1/99                       5.0            3.0   \n",
       "2               11/1/01                       2.0            2.0   \n",
       "3                2/1/96                       1.0           10.0   \n",
       "4                1/1/96                       0.0           15.0   \n",
       "\n",
       "   Revolving Balance  Revolving % Total # of Accounts  Total Debt Owed  \n",
       "0              13648       83.70%                 9.0      5863.155187  \n",
       "1               1687        9.40%                 4.0      1014.530000  \n",
       "2               2956       98.50%                10.0      3005.666844  \n",
       "3               5598          21%                37.0     12231.890000  \n",
       "4              27783       53.90%                38.0      4066.908161  \n",
       "\n",
       "[5 rows x 21 columns]"
      ]
     },
     "execution_count": 3,
     "metadata": {},
     "output_type": "execute_result"
    }
   ],
   "source": [
    "data.head()"
   ]
  },
  {
   "cell_type": "code",
   "execution_count": 4,
   "metadata": {},
   "outputs": [
    {
     "name": "stderr",
     "output_type": "stream",
     "text": [
      "/Users/dennisblarsen/anaconda3/envs/PythonData/lib/python3.6/site-packages/pandas/core/ops.py:1649: FutureWarning: elementwise comparison failed; returning scalar instead, but in the future will perform elementwise comparison\n",
      "  result = method(y)\n"
     ]
    }
   ],
   "source": [
    "df1 = data[data!= '..']\n",
    "crash_data = df1.dropna()"
   ]
  },
  {
   "cell_type": "code",
   "execution_count": 5,
   "metadata": {},
   "outputs": [
    {
     "name": "stdout",
     "output_type": "stream",
     "text": [
      "(41336, 7) (41336, 1)\n"
     ]
    }
   ],
   "source": [
    "X = crash_data[[\"Installment\", \"term_in_months\", \"Loan Amount\", \"Total Debt Owed\", \"annual_inc\", \"Open Accounts\",\"# Inquiries last 6 months\"]]\n",
    "y = crash_data [\"Interest Rate\"].values.reshape(-1,1)\n",
    "print(X.shape, y.shape)"
   ]
  },
  {
   "cell_type": "code",
   "execution_count": 6,
   "metadata": {},
   "outputs": [],
   "source": [
    "X_train, X_test, y_train, y_test = train_test_split(X, y, random_state=1000)"
   ]
  },
  {
   "cell_type": "code",
   "execution_count": 7,
   "metadata": {},
   "outputs": [],
   "source": [
    "model = LinearRegression()"
   ]
  },
  {
   "cell_type": "code",
   "execution_count": 8,
   "metadata": {},
   "outputs": [],
   "source": [
    "model.fit(X_train, y_train)\n",
    "training_score = model.score(X_train, y_train)\n",
    "testing_score = model.score(X_test, y_test)"
   ]
  },
  {
   "cell_type": "code",
   "execution_count": null,
   "metadata": {},
   "outputs": [],
   "source": []
  },
  {
   "cell_type": "code",
   "execution_count": 9,
   "metadata": {},
   "outputs": [
    {
     "name": "stdout",
     "output_type": "stream",
     "text": [
      "Training Score: 0.341881431744664\n",
      "Testing Score: 0.3351153509649067\n"
     ]
    }
   ],
   "source": [
    "print(f\"Training Score: {training_score}\")\n",
    "print(f\"Testing Score: {testing_score}\")"
   ]
  },
  {
   "cell_type": "code",
   "execution_count": 10,
   "metadata": {},
   "outputs": [
    {
     "name": "stdout",
     "output_type": "stream",
     "text": [
      "Weight coefficients:  [[ 2.12709331e-04  2.43434045e-03 -5.07747026e-06 -1.82235173e-07\n",
      "  -9.24823074e-09 -3.38937055e-04  4.18984949e-03]]\n",
      "y-axis intercept:  [0.00817804]\n"
     ]
    }
   ],
   "source": [
    " print('Weight coefficients: ', model.coef_)\n",
    "print('y-axis intercept: ', model.intercept_) "
   ]
  },
  {
   "cell_type": "code",
   "execution_count": 11,
   "metadata": {},
   "outputs": [
    {
     "data": {
      "text/plain": [
       "Text(0.5, 1.0, 'Residual Plot')"
      ]
     },
     "execution_count": 11,
     "metadata": {},
     "output_type": "execute_result"
    },
    {
     "data": {
      "image/png": "[encoded data removed]",
      "text/plain": [
       "<Figure size 432x288 with 1 Axes>"
      ]
     },
     "metadata": {
      "needs_background": "light"
     },
     "output_type": "display_data"
    }
   ],
   "source": [
    "plt.scatter(model.predict(X_train), model.predict(X_train) - y_train, c=\"blue\", label=\"Training Data\")\n",
    "plt.scatter(model.predict(X_test), model.predict(X_test) - y_test, c=\"orange\", label=\"Testing Data\")\n",
    "plt.legend()\n",
    "plt.hlines(y=0, xmin=y.min(), xmax=y.max())\n",
    "plt.title(\"Residual Plot\")"
   ]
  },
  {
   "cell_type": "code",
   "execution_count": null,
   "metadata": {},
   "outputs": [],
   "source": []
  }
 ],
 "metadata": {
  "kernelspec": {
   "display_name": "Python 3",
   "language": "python",
   "name": "python3"
  },
  "language_info": {
   "codemirror_mode": {
    "name": "ipython",
    "version": 3
   },
   "file_extension": ".py",
   "mimetype": "text/x-python",
   "name": "python",
   "nbconvert_exporter": "python",
   "pygments_lexer": "ipython3",
   "version": "3.6.7"
  }
 },
 "nbformat": 4,
 "nbformat_minor": 2
}
